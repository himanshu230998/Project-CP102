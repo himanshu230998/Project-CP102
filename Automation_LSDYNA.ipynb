{
  "nbformat": 4,
  "nbformat_minor": 0,
  "metadata": {
    "kernelspec": {
      "display_name": "Python 3",
      "language": "python",
      "name": "python3"
    },
    "language_info": {
      "codemirror_mode": {
        "name": "ipython",
        "version": 3
      },
      "file_extension": ".py",
      "mimetype": "text/x-python",
      "name": "python",
      "nbconvert_exporter": "python",
      "pygments_lexer": "ipython3",
      "version": "3.8.6"
    },
    "colab": {
      "name": "Automation_LSDYNA.ipynb",
      "provenance": [],
      "include_colab_link": true
    }
  },
  "cells": [
    {
      "cell_type": "markdown",
      "metadata": {
        "id": "view-in-github",
        "colab_type": "text"
      },
      "source": [
        "<a href=\"https://colab.research.google.com/github/himanshu230998/Project-CP102/blob/main/Automation_LSDYNA.ipynb\" target=\"_parent\"><img src=\"https://colab.research.google.com/assets/colab-badge.svg\" alt=\"Open In Colab\"/></a>"
      ]
    },
    {
      "cell_type": "code",
      "metadata": {
        "id": "Cw0so0U4c4fl"
      },
      "source": [
        "import os"
      ],
      "execution_count": null,
      "outputs": []
    },
    {
      "cell_type": "markdown",
      "metadata": {
        "id": "nYJd_GH1c4fs"
      },
      "source": [
        "# Thickness"
      ]
    },
    {
      "cell_type": "code",
      "metadata": {
        "id": "cbv71M2tc4ft"
      },
      "source": [
        "def stoi(a, thick):\n",
        "    p=(a[24:40])\n",
        "    q=list((a))\n",
        "    #string to float\n",
        "    a=float(p)\n",
        "\n",
        "    \n",
        "    if(a<=10):\n",
        "        a=round(a*thick*0.01,5)\n",
        "        #number to string \n",
        "        s=list(str(a))\n",
        "        l=len(s)\n",
        "        t=39\n",
        "        #s and p are string\n",
        "\n",
        "        for i in range(l):\n",
        "            q[t-i]=s[l-1-i]\n",
        "            \n",
        "        for i in range(16-l):\n",
        "            q[t-i-l]=' '\n",
        "\n",
        "        listToStr = ''.join(map(str, q)) \n",
        "        return(listToStr)\n",
        "    else:\n",
        "        listToStr = ''.join(map(str, q)) \n",
        "        return(listToStr)     \n",
        "\n",
        "\n",
        "for i in range(5, 101, 5): \n",
        "    with open(\"C:/Users/dell12/Desktop/Himanshu/a15_150.k\", \"r\") as f:\n",
        "        with open(\"C:/Users/dell12/Desktop/Himanshu/t=\"+str(i)+\".k\", \"w\") as f1:\n",
        "            for line in f:\n",
        "                f1.write(line)\n",
        "                if \"*NODE\" in line:\n",
        "                    for a in f:\n",
        "                        if \"*END\" in a:\n",
        "                            f1.write(a)\n",
        "                            break\n",
        "                        elif \"$#   nid\" in a:\n",
        "                            f1.write(a)\n",
        "                        else:\n",
        "                            f1.write(stoi(a, i))\n"
      ],
      "execution_count": null,
      "outputs": []
    },
    {
      "cell_type": "markdown",
      "metadata": {
        "id": "y8LpyqCDc4fu"
      },
      "source": [
        "# Velocity"
      ]
    },
    {
      "cell_type": "code",
      "metadata": {
        "id": "gIntAwbBc4fv"
      },
      "source": [
        "def velo(a, v):\n",
        "    p=(a[40:50])\n",
        "    q=list((a))\n",
        "\n",
        "    a=-v\n",
        "    #number to string \n",
        "    s=list(str(a))\n",
        "    l=len(s)\n",
        "    t=49\n",
        "    #s and p are string\n",
        "\n",
        "    for i in range(l):\n",
        "        q[t-i]=s[l-1-i]\n",
        "\n",
        "    for i in range(10-l):\n",
        "        q[t-i-l]=' '\n",
        "\n",
        "    listToStr = ''.join(map(str, q)) \n",
        "    return(listToStr)\n",
        "\n",
        "\n",
        "for j in range(0, 401, 10): \n",
        "    for i in range(5, 101, 5): \n",
        "        h=0\n",
        "        with open(\"C:/Users/dell12/Desktop/Himanshu/t=\"+str(i)+\".k\", \"r\") as f:\n",
        "            with open(\"C:/Users/dell12/Desktop/Himanshu/t=\"+str(i)+\"vz=\"+str(j)+\".k\", \"w\") as f1:\n",
        "                for line in f:\n",
        "                    f1.write(line)\n",
        "                    if \"*INITIAL_VELOCITY_GENERATION\" in line:\n",
        "                        for a in f:\n",
        "                            if(h==-1):\n",
        "                                f1.write(a)\n",
        "                            elif (h==0):\n",
        "                                f1.write(a)\n",
        "                                h=1  \n",
        "                            else:\n",
        "                                f1.write(velo(a, j))   \n",
        "                                h=-1\n"
      ],
      "execution_count": null,
      "outputs": []
    },
    {
      "cell_type": "code",
      "metadata": {
        "id": "iGrUuBCEc4fv"
      },
      "source": [
        "boo=True\n",
        "\n",
        "for i in range(5, 101, 5):#thickness\n",
        "    for j in range(0,401,10): #vz\n",
        "        dis = []\n",
        "        write=[]\n",
        "        kinetic = []\n",
        "        velocity=[]\n",
        "        os.system(r'D:\\LSDYNA\\program\\ls-dyna_smp_s_R11_0_winx64_ifort131 i=C:/Users/dell12/Desktop/Himanshu/t='+str(i)+'vz='+ str(j)+r'.k')\n",
        "       \n",
        "        fw=open(\"C:/Users/dell12/Desktop/Himanshu/timeseries.txt\",\"a\")\n",
        "        write.append(i)\n",
        "        write.append(j)\n",
        "        \n",
        "        f = open(\"C:/Users/dell12/AppData/Local/Programs/Python/Python38/Scripts/rbdout\")\n",
        "        content = f.readlines()\n",
        "        for line in content:\n",
        "            if(boo):\n",
        "                if('displacements:' in line):\n",
        "                    dis.append(line.split()[2])\n",
        "                    boo=False\n",
        "\n",
        "            else:\n",
        "                if('velocities:' in line):\n",
        "                    velocity.append(line.split()[2])\n",
        "                    boo=False\n",
        "                if('displacements:' in line):\n",
        "                    boo=True\n",
        "\n",
        "                \n",
        "        write.append(dis)\n",
        "        write.append(velocity)\n",
        "        f.close()\n",
        "        \n",
        "        fs = open(\"C:/Users/dell12/AppData/Local/Programs/Python/Python38/Scripts/matsum\")\n",
        "        content = fs.readlines()\n",
        "        for line in content:\n",
        "            if(' mat.#=    2' in line):\n",
        "                kinetic.append(line.split()[5])\n",
        "        write.append(kinetic)\n",
        "                \n",
        "        fs.close()\n",
        "        fw.write(str(write[0])+';'+str(write[1])+';'+str(write[2])+';'+str(write[3])+';'+str(write[4])+\"\\n\")\n",
        "        fw.close()\n",
        "        "
      ],
      "execution_count": null,
      "outputs": []
    },
    {
      "cell_type": "code",
      "metadata": {
        "id": "Va9ZX6JUc4fw"
      },
      "source": [
        "\n",
        "# for i in range(5, 101, 5):#thickness\n",
        "#     for j in range(0,401,10): #vz\n",
        "#         os.system(r'D:\\LSDYNA\\program\\ls-dyna_smp_s_R11_0_winx64_ifort131 i=C:/Users/dell12/Desktop/Himanshu/t='+str(i)+'vz='+ str(j)+r'.k')\n",
        "        \n",
        "#         fv=open(\"C:/Users/dell12/Desktop/Himanshu/velocity.txt\",\"a\")\n",
        "#         fv.write(str(j)+\", \")\n",
        "#         fv.close()\n",
        "        \n",
        "#         ft=open(\"C:/Users/dell12/Desktop/Himanshu/thichness.txt\",\"a\")\n",
        "#         ft.write(str(i*0.01)+\", \")\n",
        "#         ft.close()\n",
        "        \n",
        "#         f = open(\"C:/Users/dell12/AppData/Local/Programs/Python/Python38/Scripts/rbdout\")\n",
        "#         content = f.readlines()\n",
        "#         for line in content:\n",
        "#             if('displacements' in line):\n",
        "#                 dop=line.split()[2]\n",
        "#         f.close()\n",
        "#         fdop=open(\"C:/Users/dell12/Desktop/Himanshu/DOP.txt\",\"a\")\n",
        "#         fdop.write(str(dop)+\", \")\n",
        "#         fdop.close()\n",
        "        \n",
        "#         f2=open(\"C:/Users/dell12/AppData/Local/Programs/Python/Python38/Scripts/d3hsp\")\n",
        "#         content = f2.readlines()\n",
        "#         for line in content:\n",
        "#             if('eroded kinetic energy' in line):\n",
        "#                 a=(line.split()[3])\n",
        "#         f2.close()\n",
        "#         fke=open(\"C:/Users/dell12/Desktop/Himanshu/ErodedKE.txt\",\"a\")\n",
        "#         fke.write(str(a)+\", \")\n",
        "#         fke.close()\n",
        "        \n",
        "#         fall=open(\"C:/Users/dell12/Desktop/Himanshu/all.txt\",\"a\")\n",
        "#         fall.write(str(i*0.01)+\", \"+str(j)+\", \"+str(dop)+\", \"+str(a)+\"; \")\n",
        "        "
      ],
      "execution_count": null,
      "outputs": []
    }
  ]
}